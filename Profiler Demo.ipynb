{
 "cells": [
  {
   "cell_type": "markdown",
   "metadata": {},
   "source": [
    "# Running TF Profiler (w/ Keras)"
   ]
  },
  {
   "cell_type": "markdown",
   "metadata": {},
   "source": [
    "### Prerequisites\n",
    "\n",
    "- Python 3.6\n",
    "- Keras <= 2.1.6\n",
    "- Compatible Tensorflow\n",
    "- Profiler GUI prerequisites: https://github.com/tensorflow/profiler-ui. \n",
    "\n",
    "It's important that you install the right prerequisites Keras doesn't currently support runtime options: https://github.com/tensorflow/tensorflow/issues/19911\n",
    "\n",
    "The rest of the necessary libraries (and Python) come preinstalled with Anaconda and it's recommended that you setup the prerequisites in a virtual environment so it doesn't interfere with other projects."
   ]
  },
  {
   "cell_type": "code",
   "execution_count": 1,
   "metadata": {},
   "outputs": [
    {
     "name": "stderr",
     "output_type": "stream",
     "text": [
      "C:\\Users\\vsunkavalli\\AppData\\Local\\conda\\conda\\envs\\profilerenv\\lib\\site-packages\\h5py\\__init__.py:36: FutureWarning: Conversion of the second argument of issubdtype from `float` to `np.floating` is deprecated. In future, it will be treated as `np.float64 == np.dtype(float).type`.\n",
      "  from ._conv import register_converters as _register_converters\n",
      "Using TensorFlow backend.\n"
     ]
    }
   ],
   "source": [
    "import keras\n",
    "import tensorflow as tf"
   ]
  },
  {
   "cell_type": "markdown",
   "metadata": {},
   "source": [
    "### Creating your model\n",
    "\n",
    "Make sure that you compile your models with tensorflow runtime options like shown:\n",
    "\n",
    "    run_metadata = tf.RunMetadata()\n",
    "    run_options = tf.RunOptions(trace_level=tf.RunOptions.FULL_TRACE)\n",
    "    model.compile(..., run_metadata=run_metadata, run_options=run_options)\n"
   ]
  },
  {
   "cell_type": "code",
   "execution_count": 2,
   "metadata": {},
   "outputs": [
    {
     "name": "stdout",
     "output_type": "stream",
     "text": [
      "x_train shape: (512, 32, 32, 3)\n",
      "512 train samples\n",
      "64 test samples\n"
     ]
    }
   ],
   "source": [
    "#Loading Data - Unimportant\n",
    "from keras.datasets import cifar10\n",
    "num_classes=10\n",
    "\n",
    "(x_train, y_train), (x_test, y_test) = cifar10.load_data()\n",
    "\n",
    "x_train = x_train[0:512]\n",
    "y_train = y_train[0:512]\n",
    "x_test = x_test[0:64]\n",
    "y_test = y_test[0:64]\n",
    "\n",
    "print('x_train shape:', x_train.shape)\n",
    "print(x_train.shape[0], 'train samples')\n",
    "print(x_test.shape[0], 'test samples')\n",
    "\n",
    "# Convert class vectors to binary class matrices.\n",
    "y_train = keras.utils.to_categorical(y_train, num_classes)\n",
    "y_test = keras.utils.to_categorical(y_test, num_classes)\n",
    "\n",
    "x_train = x_train.astype('float32')\n",
    "x_test = x_test.astype('float32')\n",
    "x_train /= 255\n",
    "x_test /= 255"
   ]
  },
  {
   "cell_type": "code",
   "execution_count": 3,
   "metadata": {},
   "outputs": [],
   "source": [
    "#Loading Model - Unimportant\n",
    "from keras.datasets import cifar10\n",
    "from keras.models import Sequential\n",
    "from keras.layers import Dense, Dropout, Activation, Flatten\n",
    "from keras.layers import Conv2D, MaxPooling2D\n",
    "\n",
    "batch_size = 32\n",
    "epochs = 3\n",
    "\n",
    "\n",
    "model = Sequential()\n",
    "model.add(Conv2D(32, (3, 3), padding='same',\n",
    "                 input_shape=x_train.shape[1:]))\n",
    "model.add(Activation('relu'))\n",
    "model.add(Conv2D(32, (3, 3)))\n",
    "model.add(Activation('relu'))\n",
    "model.add(MaxPooling2D(pool_size=(2, 2)))\n",
    "model.add(Dropout(0.25))\n",
    "\n",
    "model.add(Conv2D(64, (3, 3), padding='same'))\n",
    "model.add(Activation('relu'))\n",
    "model.add(Conv2D(64, (3, 3)))\n",
    "model.add(Activation('relu'))\n",
    "model.add(MaxPooling2D(pool_size=(2, 2)))\n",
    "model.add(Dropout(0.25))\n",
    "\n",
    "model.add(Flatten())\n",
    "model.add(Dense(512))\n",
    "model.add(Activation('relu'))\n",
    "model.add(Dropout(0.5))\n",
    "model.add(Dense(num_classes))\n",
    "model.add(Activation('softmax'))\n",
    "\n",
    "opt = keras.optimizers.rmsprop(lr=0.0001, decay=1e-6)"
   ]
  },
  {
   "cell_type": "code",
   "execution_count": 8,
   "metadata": {},
   "outputs": [],
   "source": [
    "run_metadata = tf.RunMetadata()\n",
    "run_options = tf.RunOptions(trace_level=tf.RunOptions.FULL_TRACE)\n",
    "model.compile(loss='categorical_crossentropy', optimizer=opt, metrics=['accuracy'],\n",
    "              run_metadata=run_metadata, options=run_options)"
   ]
  },
  {
   "cell_type": "markdown",
   "metadata": {},
   "source": [
    "### Profiling your model\n",
    "\n",
    "When training your model, you must setup the code in a particular way in order to get the profile log. Make sure to follow the code provided and only edit the train statement."
   ]
  },
  {
   "cell_type": "code",
   "execution_count": 9,
   "metadata": {},
   "outputs": [],
   "source": [
    "log_dir = './' #Set up the directory where you want to store your profiles"
   ]
  },
  {
   "cell_type": "code",
   "execution_count": 10,
   "metadata": {},
   "outputs": [
    {
     "name": "stdout",
     "output_type": "stream",
     "text": [
      "Train on 512 samples, validate on 64 samples\n",
      "Epoch 1/3\n",
      "256/512 [==============>...............] - ETA: 2s - loss: 2.3187 - acc: 0.1016"
     ]
    },
    {
     "name": "stderr",
     "output_type": "stream",
     "text": [
      "287 ops no flops stats due to incomplete shapes.\n"
     ]
    },
    {
     "name": "stdout",
     "output_type": "stream",
     "text": [
      "512/512 [==============================] - 74s 144ms/step - loss: 2.3109 - acc: 0.0996 - val_loss: 2.2931 - val_acc: 0.1250\n",
      "Epoch 2/3\n",
      "512/512 [==============================] - 11s 22ms/step - loss: 2.2936 - acc: 0.1211 - val_loss: 2.2905 - val_acc: 0.0469\n",
      "Epoch 3/3\n",
      "512/512 [==============================] - 5s 9ms/step - loss: 2.2872 - acc: 0.1250 - val_loss: 2.2806 - val_acc: 0.0625\n"
     ]
    }
   ],
   "source": [
    "#Using TF Profiler\n",
    "builder = tf.profiler.ProfileOptionBuilder\n",
    "opts = builder(builder.time_and_memory()).order_by('micros').build()\n",
    "opts2 = tf.profiler.ProfileOptionBuilder.trainable_variables_parameter()\n",
    "\n",
    "\n",
    "with tf.contrib.tfprof.ProfileContext(\n",
    "    log_dir,\n",
    "    trace_steps=range(10,20),\n",
    "    dump_steps=[20]) as pctx:\n",
    "\n",
    "    pctx.add_auto_profiling('op', opts, [15,18,20])\n",
    "    pctx.add_auto_profiling('scope', opts2, [20])\n",
    "    model.fit(x_train, y_train, batch_size=batch_size, epochs=epochs, validation_data=(x_test, y_test),shuffle=True)"
   ]
  },
  {
   "cell_type": "markdown",
   "metadata": {},
   "source": [
    "### Running the Tensorflow Profiler/Timeline\n",
    "\n",
    "Make sure you have Chrome installed in order to use the profiler. In order to access the profiler GUI, you will need to use the Anaconda Prompt and navigate to the profiler-ui folder, then run ui.py and give it a path to your profile. Details are listed here: https://github.com/tensorflow/profiler-ui. "
   ]
  }
 ],
 "metadata": {
  "kernelspec": {
   "display_name": "Python 3",
   "language": "python",
   "name": "python3"
  },
  "language_info": {
   "codemirror_mode": {
    "name": "ipython",
    "version": 3
   },
   "file_extension": ".py",
   "mimetype": "text/x-python",
   "name": "python",
   "nbconvert_exporter": "python",
   "pygments_lexer": "ipython3",
   "version": "3.6.4"
  }
 },
 "nbformat": 4,
 "nbformat_minor": 2
}
